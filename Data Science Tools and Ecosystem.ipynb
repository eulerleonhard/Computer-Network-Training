{
 "cells": [
  {
   "cell_type": "markdown",
   "id": "18848230-11f2-45f4-9ea5-4e20416e38c1",
   "metadata": {},
   "source": [
    "# Data Science Tools and Ecosystem"
   ]
  },
  {
   "cell_type": "markdown",
   "id": "950ff854-b26d-4cd3-8d9d-385eb2768241",
   "metadata": {},
   "source": [
    "In this notebook, Data Science Tools and Ecosystem are summarized."
   ]
  },
  {
   "cell_type": "markdown",
   "id": "f4ef30c1-a425-4779-8a58-9bfab296a4e7",
   "metadata": {},
   "source": [
    "Some of the popular languages that Data Scientists use are:\n",
    "1. Python\n",
    "2. Scala\n",
    "3. Java"
   ]
  },
  {
   "cell_type": "markdown",
   "id": "304d5392-1cc4-4cf7-8410-698c1612f422",
   "metadata": {},
   "source": [
    "Some of the commonly used libraries used by Data Scientists include:\n",
    "1. pandas\n",
    "2. numpy\n",
    "3. matplotlib"
   ]
  },
  {
   "cell_type": "markdown",
   "id": "2b7787eb-2a2b-4556-a65a-0faa43c858cb",
   "metadata": {},
   "source": [
    "| Data Science Tools |\n",
    "| ----------- |\n",
    "| Apache Spark |\n",
    "| Google Colab |\n",
    "|Hue|"
   ]
  },
  {
   "cell_type": "markdown",
   "id": "6ad6e3cc-a004-4261-970c-29f25f67e175",
   "metadata": {},
   "source": [
    "### Below are a few examples of evaluating arithmetic expressions in Python"
   ]
  },
  {
   "cell_type": "code",
   "execution_count": 3,
   "id": "b0e7c49d-acea-4f23-a091-9ef5c73175eb",
   "metadata": {},
   "outputs": [
    {
     "data": {
      "text/plain": [
       "17"
      ]
     },
     "execution_count": 3,
     "metadata": {},
     "output_type": "execute_result"
    }
   ],
   "source": [
    "# This a simple arithmetic expression to mutiply \n",
    "#then add integers\n",
    "(3*4)+5"
   ]
  },
  {
   "cell_type": "code",
   "execution_count": 5,
   "id": "6726bec5-4f54-4b66-b544-de169d624012",
   "metadata": {},
   "outputs": [
    {
     "data": {
      "text/plain": [
       "3.3333333333333335"
      ]
     },
     "execution_count": 5,
     "metadata": {},
     "output_type": "execute_result"
    }
   ],
   "source": [
    "# This will convert 200 minutes to hours by diving by 60\n",
    "200/60"
   ]
  },
  {
   "cell_type": "markdown",
   "id": "7829dbfa-04c5-4c47-ae85-9ef1b1be815e",
   "metadata": {},
   "source": [
    "**Objectives:**\n",
    "- This assignment is so stupid, I'm wasting my time here :)\n",
    "- You can search for mark-down language cheatsheet online.\n",
    "- You don't have to remember it all, just search for the cheatsheet whenever you need it. (Though it's not too hard to remember)"
   ]
  },
  {
   "cell_type": "markdown",
   "id": "98a55f83-65e8-4d17-9743-ae85b6063dff",
   "metadata": {},
   "source": [
    "## Author\n",
    "Ngan Ha (Euler Leonhard)"
   ]
  },
  {
   "cell_type": "code",
   "execution_count": null,
   "id": "81dd622c-46dd-48d6-b875-83e52d050f56",
   "metadata": {},
   "outputs": [],
   "source": []
  }
 ],
 "metadata": {
  "kernelspec": {
   "display_name": "Python 3 (ipykernel)",
   "language": "python",
   "name": "python3"
  },
  "language_info": {
   "codemirror_mode": {
    "name": "ipython",
    "version": 3
   },
   "file_extension": ".py",
   "mimetype": "text/x-python",
   "name": "python",
   "nbconvert_exporter": "python",
   "pygments_lexer": "ipython3",
   "version": "3.11.7"
  }
 },
 "nbformat": 4,
 "nbformat_minor": 5
}
